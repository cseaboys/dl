{
  "nbformat": 4,
  "nbformat_minor": 0,
  "metadata": {
    "colab": {
      "provenance": [],
      "authorship_tag": "ABX9TyP9bifozMSyE5C8t3KRoCyk",
      "include_colab_link": true
    },
    "kernelspec": {
      "name": "python3",
      "display_name": "Python 3"
    },
    "language_info": {
      "name": "python"
    }
  },
  "cells": [
    {
      "cell_type": "markdown",
      "metadata": {
        "id": "view-in-github",
        "colab_type": "text"
      },
      "source": [
        "<a href=\"https://colab.research.google.com/github/cseaboys/dl/blob/main/e5.ipynb\" target=\"_parent\"><img src=\"https://colab.research.google.com/assets/colab-badge.svg\" alt=\"Open In Colab\"/></a>"
      ]
    },
    {
      "cell_type": "code",
      "source": [
        "!pip install -q keras-tuner"
      ],
      "metadata": {
        "id": "HQnwQSamoipU"
      },
      "execution_count": 6,
      "outputs": []
    },
    {
      "cell_type": "code",
      "execution_count": 22,
      "metadata": {
        "colab": {
          "base_uri": "https://localhost:8080/",
          "height": 342
        },
        "id": "d0CHkaysli9k",
        "outputId": "5ddd3f69-5a09-4b1b-c83a-d47cdc251013"
      },
      "outputs": [
        {
          "output_type": "stream",
          "name": "stdout",
          "text": [
            "Reloading Tuner from denoise_tuning/mlp_mnist_simple/tuner0.json\n"
          ]
        },
        {
          "output_type": "stream",
          "name": "stderr",
          "text": [
            "/usr/local/lib/python3.11/dist-packages/keras/src/saving/saving_lib.py:802: UserWarning: Skipping variable loading for optimizer 'adam', because it has 2 variables whereas the saved optimizer has 14 variables. \n",
            "  saveable.load_own_variables(weights_store.get(inner_path))\n"
          ]
        },
        {
          "output_type": "display_data",
          "data": {
            "text/plain": [
              "<Figure size 600x300 with 2 Axes>"
            ],
            "image/png": "[encoded data removed]"
          },
          "metadata": {}
        }
      ],
      "source": [
        "import numpy as np\n",
        "import tensorflow as tf\n",
        "import matplotlib.pyplot as plt\n",
        "import keras_tuner as kt\n",
        "\n",
        "(x_train, _), _ = tf.keras.datasets.mnist.load_data()\n",
        "x = x_train[:5000].astype(\"float32\") / 255.0\n",
        "x = x.reshape(len(x), -1)\n",
        "\n",
        "# add small gaussian noise\n",
        "noise = np.random.normal(0, 0.05, x.shape)\n",
        "x_noisy = np.clip(x + noise, 0.0, 1.0)\n",
        "\n",
        "# model builder for Keras Tuner\n",
        "def build_model(hp):\n",
        "    model = tf.keras.Sequential([\n",
        "        tf.keras.layers.InputLayer(shape=(784,)),\n",
        "        tf.keras.layers.Dense(hp.Int('units1', 128, 512, step=128), activation='relu'),\n",
        "        tf.keras.layers.Dense(hp.Int('units2', 64, 256, step=64), activation='relu'),\n",
        "        tf.keras.layers.Dense(784, activation='sigmoid')\n",
        "    ])\n",
        "    model.compile(optimizer=tf.keras.optimizers.Adam(),\n",
        "                  loss='mse')\n",
        "    return model\n",
        "\n",
        "# tuner\n",
        "tuner = kt.RandomSearch(\n",
        "    build_model,\n",
        "    objective='val_loss',\n",
        "    max_trials=4,\n",
        "    executions_per_trial=1,\n",
        "    directory='denoise_tuning',\n",
        "    project_name='mlp_mnist_simple'\n",
        ")\n",
        "\n",
        "tuner.search(x_noisy, x, epochs=6, validation_split=0.2, verbose=0)\n",
        "\n",
        "# best model\n",
        "best_model = tuner.get_best_models(num_models=1)[0]\n",
        "\n",
        "# denoise\n",
        "x_denoised = best_model.predict(x_noisy, verbose=0)\n",
        "\n",
        "# image at index number 1\n",
        "image_index = 1\n",
        "plt.figure(figsize=(6,3))\n",
        "plt.subplot(1,2,1)\n",
        "plt.imshow(x_noisy[image_index].reshape(28,28), cmap='gray')\n",
        "plt.title(\"Noisy\")\n",
        "plt.axis('off')\n",
        "\n",
        "plt.subplot(1,2,2)\n",
        "plt.imshow(x_denoised[image_index].reshape(28,28), cmap='gray')\n",
        "plt.title(\"Denoised\")\n",
        "plt.axis('off')\n",
        "\n",
        "plt.show()"
      ]
    }
  ]
}